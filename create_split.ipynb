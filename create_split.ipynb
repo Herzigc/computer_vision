{
 "cells": [
  {
   "cell_type": "code",
   "id": "initial_id",
   "metadata": {
    "collapsed": true,
    "ExecuteTime": {
     "end_time": "2025-04-06T14:27:13.809740Z",
     "start_time": "2025-04-06T14:27:13.104742Z"
    }
   },
   "source": [
    "import os\n",
    "import shutil\n",
    "from sklearn.model_selection import train_test_split\n",
    "import numpy as np\n",
    "from pathlib import Path"
   ],
   "outputs": [],
   "execution_count": 5
  },
  {
   "metadata": {
    "ExecuteTime": {
     "end_time": "2025-04-06T14:27:13.828980Z",
     "start_time": "2025-04-06T14:27:13.824981Z"
    }
   },
   "cell_type": "code",
   "source": [
    "random_seed = 42\n",
    "np.random.seed(random_seed)"
   ],
   "id": "3e6007a06ae18c2c",
   "outputs": [],
   "execution_count": 6
  },
  {
   "metadata": {
    "ExecuteTime": {
     "end_time": "2025-04-06T14:27:24.381388Z",
     "start_time": "2025-04-06T14:27:13.841802Z"
    }
   },
   "cell_type": "code",
   "source": [
    "data_path = Path.cwd()\n",
    "input_dir = data_path/'data/'\n",
    "\n",
    "output_dir = './data_split'\n",
    "categories = ['Ant', 'Bee', 'Bear']\n",
    "split_ratio = 0.75\n",
    "\n",
    "# Create output directories\n",
    "for split in ['train', 'test']:\n",
    "    for category in categories:\n",
    "        os.makedirs(os.path.join(output_dir, split, category), exist_ok=True)\n",
    "\n",
    "# Split and copy images\n",
    "for category in categories:\n",
    "    category_path = os.path.join(input_dir, category)\n",
    "    images = [f for f in os.listdir(category_path) if os.path.isfile(os.path.join(category_path, f))]\n",
    "\n",
    "    train_images, test_images = train_test_split(images, train_size=split_ratio, random_state=random_seed)\n",
    "\n",
    "    for image in train_images:\n",
    "        shutil.copy(\n",
    "            os.path.join(category_path, image),\n",
    "            os.path.join(output_dir, 'train', category, image)\n",
    "        )\n",
    "\n",
    "    for image in test_images:\n",
    "        shutil.copy(\n",
    "            os.path.join(category_path, image),\n",
    "            os.path.join(output_dir, 'test', category, image)\n",
    "        )\n",
    "\n",
    "print(\"Data successfully split into train and test folders.\")"
   ],
   "id": "5135f2ce19e4cfe2",
   "outputs": [
    {
     "name": "stdout",
     "output_type": "stream",
     "text": [
      "Data successfully split into train and test folders.\n"
     ]
    }
   ],
   "execution_count": 7
  }
 ],
 "metadata": {
  "kernelspec": {
   "display_name": "Python 3",
   "language": "python",
   "name": "python3"
  },
  "language_info": {
   "codemirror_mode": {
    "name": "ipython",
    "version": 2
   },
   "file_extension": ".py",
   "mimetype": "text/x-python",
   "name": "python",
   "nbconvert_exporter": "python",
   "pygments_lexer": "ipython2",
   "version": "2.7.6"
  }
 },
 "nbformat": 4,
 "nbformat_minor": 5
}
