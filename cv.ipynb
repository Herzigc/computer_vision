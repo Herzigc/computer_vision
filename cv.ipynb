{
 "cells": [
  {
   "cell_type": "code",
   "id": "initial_id",
   "metadata": {
    "collapsed": true,
    "ExecuteTime": {
     "end_time": "2025-03-27T19:44:54.344978Z",
     "start_time": "2025-03-27T19:41:44.557264Z"
    }
   },
   "source": [
    "import fiftyone as fo\n",
    "import pandas as pd  \n",
    "from fiftyone import ViewField as F\n",
    "\n",
    "my_classes = [\"Ant\", \"Bee\", \"Bear\"]\n",
    "\n",
    "export_dir = \"./data\"\n",
    "dataset = fo.zoo.load_zoo_dataset(\"open-images-v7\", split=\"train\", label_types=[\"detections\"], classes=my_classes, max_samples=500, shuffle=True)\n",
    "dataset = dataset.filter_labels(\"ground_truth\", F(\"label\").is_in(my_classes))\n",
    "patches = dataset.to_patches(\"ground_truth\")\n",
    "patches.export(export_dir=export_dir, dataset_type=fo.types.ImageClassificationDirectoryTree, label_field=\"ground_truth\",)"
   ],
   "outputs": [
    {
     "name": "stdout",
     "output_type": "stream",
     "text": [
      "Downloading split 'train' to 'C:\\Users\\cleme\\fiftyone\\open-images-v7\\train' if necessary\n",
      "Found 100 images, downloading the remaining 400\n",
      " 100% |███████████████████| 400/400 [30.9s elapsed, 0s remaining, 10.4 files/s]      \n",
      "Dataset info written to 'C:\\Users\\cleme\\fiftyone\\open-images-v7\\info.json'\n",
      "Loading 'open-images-v7' split 'train'\n",
      " 100% |█████████████████| 500/500 [3.8s elapsed, 0s remaining, 138.6 samples/s]      \n",
      "Dataset 'open-images-v7-train-500' created\n",
      "Directory './data' already exists; export will be merged with existing files\n",
      "Detected an image classification exporter and a label field 'ground_truth' of type <class 'fiftyone.core.labels.Detection'>. Exporting image patches...\n",
      " 100% |███████████████| 2062/2062 [44.0s elapsed, 0s remaining, 38.8 samples/s]      \n"
     ]
    }
   ],
   "execution_count": 2
  },
  {
   "metadata": {},
   "cell_type": "code",
   "outputs": [],
   "execution_count": null,
   "source": "",
   "id": "3fb395e514d01f0b"
  }
 ],
 "metadata": {
  "kernelspec": {
   "display_name": "Python 3",
   "language": "python",
   "name": "python3"
  },
  "language_info": {
   "codemirror_mode": {
    "name": "ipython",
    "version": 2
   },
   "file_extension": ".py",
   "mimetype": "text/x-python",
   "name": "python",
   "nbconvert_exporter": "python",
   "pygments_lexer": "ipython2",
   "version": "2.7.6"
  }
 },
 "nbformat": 4,
 "nbformat_minor": 5
}
